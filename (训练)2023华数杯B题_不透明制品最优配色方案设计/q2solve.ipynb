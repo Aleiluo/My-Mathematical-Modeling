{
 "cells": [
  {
   "cell_type": "code",
   "execution_count": 1,
   "metadata": {},
   "outputs": [
    {
     "ename": "KeyError",
     "evalue": "\"None of ['lamb'] are in the columns\"",
     "output_type": "error",
     "traceback": [
      "\u001b[1;31m---------------------------------------------------------------------------\u001b[0m",
      "\u001b[1;31mKeyError\u001b[0m                                  Traceback (most recent call last)",
      "\u001b[1;32m~\\AppData\\Local\\Temp\\ipykernel_14172\\1029109430.py\u001b[0m in \u001b[0;36m<module>\u001b[1;34m\u001b[0m\n\u001b[0;32m     26\u001b[0m \u001b[0mcoefDf\u001b[0m\u001b[1;33m.\u001b[0m\u001b[0mset_index\u001b[0m\u001b[1;33m(\u001b[0m\u001b[1;34m'lamb'\u001b[0m\u001b[1;33m,\u001b[0m \u001b[0minplace\u001b[0m\u001b[1;33m=\u001b[0m\u001b[1;32mTrue\u001b[0m\u001b[1;33m)\u001b[0m\u001b[1;33m\u001b[0m\u001b[1;33m\u001b[0m\u001b[0m\n\u001b[0;32m     27\u001b[0m \u001b[0mcoefDf\u001b[0m\u001b[1;33m.\u001b[0m\u001b[0mcolumns\u001b[0m \u001b[1;33m=\u001b[0m \u001b[1;33m[\u001b[0m\u001b[1;34m'redk'\u001b[0m\u001b[1;33m,\u001b[0m\u001b[1;34m'redb'\u001b[0m\u001b[1;33m,\u001b[0m\u001b[1;34m'yellowk'\u001b[0m\u001b[1;33m,\u001b[0m\u001b[1;34m'yellowb'\u001b[0m\u001b[1;33m,\u001b[0m\u001b[1;34m'bluek'\u001b[0m\u001b[1;33m,\u001b[0m\u001b[1;34m'blueb'\u001b[0m\u001b[1;33m]\u001b[0m\u001b[1;33m\u001b[0m\u001b[1;33m\u001b[0m\u001b[0m\n\u001b[1;32m---> 28\u001b[1;33m \u001b[0mstimulusDf\u001b[0m\u001b[1;33m.\u001b[0m\u001b[0mset_index\u001b[0m\u001b[1;33m(\u001b[0m\u001b[1;34m'lamb'\u001b[0m\u001b[1;33m,\u001b[0m \u001b[0minplace\u001b[0m\u001b[1;33m=\u001b[0m\u001b[1;32mTrue\u001b[0m\u001b[1;33m)\u001b[0m\u001b[1;33m\u001b[0m\u001b[1;33m\u001b[0m\u001b[0m\n\u001b[0m",
      "\u001b[1;32m~\\AppData\\Roaming\\Python\\Python39\\site-packages\\pandas\\core\\frame.py\u001b[0m in \u001b[0;36mset_index\u001b[1;34m(self, keys, drop, append, inplace, verify_integrity)\u001b[0m\n\u001b[0;32m   5867\u001b[0m \u001b[1;33m\u001b[0m\u001b[0m\n\u001b[0;32m   5868\u001b[0m         \u001b[1;32mif\u001b[0m \u001b[0mmissing\u001b[0m\u001b[1;33m:\u001b[0m\u001b[1;33m\u001b[0m\u001b[1;33m\u001b[0m\u001b[0m\n\u001b[1;32m-> 5869\u001b[1;33m             \u001b[1;32mraise\u001b[0m \u001b[0mKeyError\u001b[0m\u001b[1;33m(\u001b[0m\u001b[1;34mf\"None of {missing} are in the columns\"\u001b[0m\u001b[1;33m)\u001b[0m\u001b[1;33m\u001b[0m\u001b[1;33m\u001b[0m\u001b[0m\n\u001b[0m\u001b[0;32m   5870\u001b[0m \u001b[1;33m\u001b[0m\u001b[0m\n\u001b[0;32m   5871\u001b[0m         \u001b[1;32mif\u001b[0m \u001b[0minplace\u001b[0m\u001b[1;33m:\u001b[0m\u001b[1;33m\u001b[0m\u001b[1;33m\u001b[0m\u001b[0m\n",
      "\u001b[1;31mKeyError\u001b[0m: \"None of ['lamb'] are in the columns\""
     ]
    }
   ],
   "source": [
    "#%reset -f\n",
    "\n",
    "import pandas as pd\n",
    "import numpy as np\n",
    "import scipy as sci\n",
    "import matplotlib.pyplot as plt\n",
    "import gurobipy as gp\n",
    "\n",
    "from numpy import sqrt, exp, log, sin, cos, pi\n",
    "from numpy.linalg import inv, pinv, det, matrix_rank, cond, lstsq, solve\n",
    "from gurobipy import GRB, LinExpr\n",
    "from numba import jit\n",
    "\n",
    "plt.style.use('default')                                    # 使用默认风格\n",
    "plt.rcParams['figure.facecolor'] = 'white'                  # 将图形的背景颜色设置为白色\n",
    "plt.rcParams['font.family'] = 'YaHei Consolas Hybrid'       # 字体确认\n",
    "plt.rcParams['font.size'] = 12                              # 字体大小\n",
    "plt.rcParams['axes.unicode_minus'] = False                  # 正常显示负号\n",
    "%matplotlib inline\n",
    "# matplotlib.use('TkAgg')\n",
    "\n",
    "lamb2baseKS = pd.read_excel('./第11题附件/KS与浓度关系.xlsx').iloc[0, 2:].values\n",
    "coefDf = pd.read_excel('q1coef.xlsx')\n",
    "stimulusDf = pd.read_excel('./第11题附件/光谱三刺激值加权表.xlsx')\n",
    "q2targetDf = pd.read_excel('./第11题附件/问题二目标R值.xlsx')\n",
    "coefDf.set_index('lamb', inplace=True)\n",
    "coefDf.columns = ['redk','redb','yellowk','yellowb','bluek','blueb']\n",
    "stimulusDf.set_index('lamb', inplace=True)"
   ]
  },
  {
   "cell_type": "code",
   "execution_count": 2,
   "metadata": {},
   "outputs": [],
   "source": [
    "## 计算10个样品目标的XYZ值\n",
    "\n",
    "targetX = []\n",
    "targetY = []\n",
    "targetZ = []\n",
    "\n",
    "for i in range(10):\n",
    "    X = 0\n",
    "    Y = 0\n",
    "    Z = 0\n",
    "    for j in range(16):\n",
    "        X += stimulusDf.iloc[j,0] * q2targetDf.iloc[i,j] * 20\n",
    "        Y += stimulusDf.iloc[j,1] * q2targetDf.iloc[i,j] * 20\n",
    "        Z += stimulusDf.iloc[j,2] * q2targetDf.iloc[i,j] * 20\n",
    "    targetX.append(X * 0.1)\n",
    "    targetY.append(Y * 0.1)\n",
    "    targetZ.append(Z * 0.1)\n"
   ]
  },
  {
   "cell_type": "code",
   "execution_count": null,
   "metadata": {},
   "outputs": [],
   "source": [
    "## 第二问优化模型\n",
    "lamb = np.arange(400,701,20)\n",
    "lamblen = len(lamb)\n",
    "\n",
    "for i in range(10):\n",
    "\n",
    "    ## 创建优化问题\n",
    "    model1 = gp.Model('第二问优化模型')\n",
    "\n",
    "    ## 创建优化变量\n",
    "    c = model1.addVars(3, 1, lb=0, ub=5, vtype=GRB.CONTINUOUS, name='concentration')\n",
    "    R = model1.addVars(lamblen, 1, vtype=GRB.CONTINUOUS, name='R')\n",
    "    xyz = model1.addVars(3, 1, vtype=GRB.CONTINUOUS, name='xyz')\n",
    "\n",
    "    ## 约束\n",
    "    # K/S与R值的约束\n",
    "    for j in range(lamblen):\n",
    "        model1.addConstr(2 * R[j] * (lamb2baseKS[j] + \n",
    "                                    coefDf.redk[j] * c[0] + coefDf.redb[j] + \n",
    "                                    coefDf.yellowk[j] * c[1] + coefDf.yellowb[j] + \n",
    "                                    coefDf.bluek[j] * c[2] + coefDf.blueb[j]) == (1 - R[j])**2)\n",
    "\n",
    "    # 求XYZ\n",
    "    X = LinExpr()\n",
    "    Y = LinExpr()\n",
    "    Z = LinExpr()\n",
    "    for j in range(lamblen):\n",
    "        X += stimulusDf.iloc[j, 0] * R[j] * 20\n",
    "        Y += stimulusDf.iloc[j, 1] * R[j] * 20\n",
    "        Z += stimulusDf.iloc[j, 2] * R[j] * 20\n",
    "    X *= 0.1\n",
    "    Y *= 0.1\n",
    "    Z *= 0.1\n",
    "    \n",
    "    # 色差计算\n",
    "    \n",
    "    \n",
    "    ## 目标函数\n",
    "    model1.setObjective()\n",
    "\n"
   ]
  }
 ],
 "metadata": {
  "kernelspec": {
   "display_name": "base",
   "language": "python",
   "name": "python3"
  },
  "language_info": {
   "codemirror_mode": {
    "name": "ipython",
    "version": 3
   },
   "file_extension": ".py",
   "mimetype": "text/x-python",
   "name": "python",
   "nbconvert_exporter": "python",
   "pygments_lexer": "ipython3",
   "version": "3.9.13"
  },
  "orig_nbformat": 4
 },
 "nbformat": 4,
 "nbformat_minor": 2
}
