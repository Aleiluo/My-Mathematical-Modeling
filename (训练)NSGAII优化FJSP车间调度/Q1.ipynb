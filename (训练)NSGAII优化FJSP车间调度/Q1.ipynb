{
 "cells": [
  {
   "cell_type": "code",
   "execution_count": 1,
   "metadata": {},
   "outputs": [],
   "source": [
    "#%reset -f\n",
    "\n",
    "import pandas as pd\n",
    "import numpy as np\n",
    "import scipy as sci\n",
    "import sympy as sym\n",
    "import math\n",
    "import matplotlib\n",
    "import matplotlib.pyplot as plt\n",
    "import itertools\n",
    "import gurobipy as gp\n",
    "import pickle\n",
    "\n",
    "from numpy import sqrt, exp, log, sin, cos, pi, polyfit, polyval, vander\n",
    "from numpy.linalg import inv, pinv, det, matrix_rank, cond, lstsq, solve\n",
    "from scipy.integrate import solve_ivp\n",
    "from gurobipy import GRB\n",
    "from pyinstrument import Profiler\n",
    "from numba import jit\n",
    "\n",
    "plt.style.use('default')                                    # 使用默认风格\n",
    "plt.rcParams['figure.facecolor'] = 'white'                  # 将图形的背景颜色设置为白色\n",
    "plt.rcParams['font.family'] = 'YaHei Consolas Hybrid'       # 字体确认\n",
    "plt.rcParams['font.size'] = 12                              # 字体大小\n",
    "plt.rcParams['axes.unicode_minus'] = False                  # 正常显示负号\n",
    "%matplotlib inline\n",
    "# matplotlib.use('TkAgg')\n",
    "\n",
    "# D1 = pd.read_table('')"
   ]
  },
  {
   "cell_type": "code",
   "execution_count": 3,
   "metadata": {},
   "outputs": [
    {
     "ename": "ModuleNotFoundError",
     "evalue": "No module named 'Algorithms'",
     "output_type": "error",
     "traceback": [
      "\u001b[1;31m---------------------------------------------------------------------------\u001b[0m",
      "\u001b[1;31mModuleNotFoundError\u001b[0m                       Traceback (most recent call last)",
      "\u001b[1;32m~\\AppData\\Local\\Temp\\ipykernel_6128\\1506014929.py\u001b[0m in \u001b[0;36m<module>\u001b[1;34m\u001b[0m\n\u001b[1;32m----> 1\u001b[1;33m \u001b[1;32mfrom\u001b[0m \u001b[0mNSGA\u001b[0m\u001b[1;33m.\u001b[0m\u001b[0mAlgorithms\u001b[0m\u001b[1;33m.\u001b[0m\u001b[0mAlgorithm\u001b[0m \u001b[1;32mimport\u001b[0m \u001b[1;33m*\u001b[0m\u001b[1;33m\u001b[0m\u001b[1;33m\u001b[0m\u001b[0m\n\u001b[0m\u001b[0;32m      2\u001b[0m \u001b[1;31m# from './NSGA/Algorithms/Algorithm.py' import get_args\u001b[0m\u001b[1;33m\u001b[0m\u001b[1;33m\u001b[0m\u001b[0m\n",
      "\u001b[1;32md:\\!数学建模\\题目\\WHUT-train1\\NSGA\\Algorithms\\Algorithm.py\u001b[0m in \u001b[0;36m<module>\u001b[1;34m\u001b[0m\n\u001b[0;32m      3\u001b[0m \u001b[1;32mimport\u001b[0m \u001b[0mrandom\u001b[0m\u001b[1;33m\u001b[0m\u001b[1;33m\u001b[0m\u001b[0m\n\u001b[0;32m      4\u001b[0m \u001b[1;32mimport\u001b[0m \u001b[0mcopy\u001b[0m\u001b[1;33m\u001b[0m\u001b[1;33m\u001b[0m\u001b[0m\n\u001b[1;32m----> 5\u001b[1;33m \u001b[1;32mfrom\u001b[0m \u001b[0mAlgorithms\u001b[0m\u001b[1;33m.\u001b[0m\u001b[0mutils\u001b[0m \u001b[1;32mimport\u001b[0m \u001b[1;33m*\u001b[0m\u001b[1;33m\u001b[0m\u001b[1;33m\u001b[0m\u001b[0m\n\u001b[0m\u001b[0;32m      6\u001b[0m \u001b[1;32mfrom\u001b[0m \u001b[0mAlgorithms\u001b[0m\u001b[1;33m.\u001b[0m\u001b[0mPopi\u001b[0m \u001b[1;32mimport\u001b[0m \u001b[1;33m*\u001b[0m\u001b[1;33m\u001b[0m\u001b[1;33m\u001b[0m\u001b[0m\n\u001b[0;32m      7\u001b[0m \u001b[1;33m\u001b[0m\u001b[0m\n",
      "\u001b[1;31mModuleNotFoundError\u001b[0m: No module named 'Algorithms'"
     ]
    }
   ],
   "source": [
    "from NSGA.Algorithms.Algorithm import *\n",
    "# from './NSGA/Algorithms/Algorithm.py' import get_args"
   ]
  }
 ],
 "metadata": {
  "kernelspec": {
   "display_name": "base",
   "language": "python",
   "name": "python3"
  },
  "language_info": {
   "codemirror_mode": {
    "name": "ipython",
    "version": 3
   },
   "file_extension": ".py",
   "mimetype": "text/x-python",
   "name": "python",
   "nbconvert_exporter": "python",
   "pygments_lexer": "ipython3",
   "version": "3.9.13"
  },
  "orig_nbformat": 4
 },
 "nbformat": 4,
 "nbformat_minor": 2
}
